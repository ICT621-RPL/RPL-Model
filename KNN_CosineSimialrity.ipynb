{
 "cells": [
  {
   "cell_type": "code",
   "execution_count": 1,
   "id": "d68dbe57",
   "metadata": {},
   "outputs": [],
   "source": [
    "# Import libraries\n",
    "from sklearn.metrics.pairwise import cosine_similarity\n",
    "from sklearn.feature_extraction.text import TfidfVectorizer\n",
    "from sklearn.neighbors import NearestNeighbors\n",
    "from nltk.corpus import stopwords\n",
    "import pandas as pd\n",
    "import re"
   ]
  },
  {
   "cell_type": "code",
   "execution_count": 2,
   "id": "4782dfaf",
   "metadata": {},
   "outputs": [],
   "source": [
    "# Data Preprocessing Function\n",
    "def clean_text(text):\n",
    "    text = re.sub(r'[^\\w\\s]', '', text)\n",
    "    text = text.lower()\n",
    "    text = ' '.join([word for word in text.split() if word not in stopwords.words('english')])\n",
    "    return text"
   ]
  },
  {
   "cell_type": "code",
   "execution_count": 6,
   "id": "06e41f1c",
   "metadata": {},
   "outputs": [],
   "source": [
    "# Read Data\n",
    "df = pd.read_csv('data.csv')"
   ]
  },
  {
   "cell_type": "code",
   "execution_count": 4,
   "id": "22ed1f4e",
   "metadata": {},
   "outputs": [
    {
     "data": {
      "text/html": [
       "<div>\n",
       "<style scoped>\n",
       "    .dataframe tbody tr th:only-of-type {\n",
       "        vertical-align: middle;\n",
       "    }\n",
       "\n",
       "    .dataframe tbody tr th {\n",
       "        vertical-align: top;\n",
       "    }\n",
       "\n",
       "    .dataframe thead th {\n",
       "        text-align: right;\n",
       "    }\n",
       "</style>\n",
       "<table border=\"1\" class=\"dataframe\">\n",
       "  <thead>\n",
       "    <tr style=\"text-align: right;\">\n",
       "      <th></th>\n",
       "      <th>UnitCode</th>\n",
       "      <th>UnitName</th>\n",
       "      <th>LearningOutcomes</th>\n",
       "      <th>Description</th>\n",
       "      <th>UnitContent</th>\n",
       "    </tr>\n",
       "  </thead>\n",
       "  <tbody>\n",
       "    <tr>\n",
       "      <th>0</th>\n",
       "      <td>ICT501</td>\n",
       "      <td>Business Analysis and Systems Development Appr...</td>\n",
       "      <td>Demonstrate an understanding of business analy...</td>\n",
       "      <td>This unit aims to further develop the knowledg...</td>\n",
       "      <td>This unit covers the following topics: * Syste...</td>\n",
       "    </tr>\n",
       "    <tr>\n",
       "      <th>1</th>\n",
       "      <td>ICT502</td>\n",
       "      <td>Applied Information Security Management</td>\n",
       "      <td>Communicate the importance of security of both...</td>\n",
       "      <td>Information security managers design, build an...</td>\n",
       "      <td>1. Introduction to the Management of Informati...</td>\n",
       "    </tr>\n",
       "    <tr>\n",
       "      <th>2</th>\n",
       "      <td>ICT505</td>\n",
       "      <td>Knowledge Management</td>\n",
       "      <td>Critically discuss the role and importance of ...</td>\n",
       "      <td>This unit examines the role of knowledge manag...</td>\n",
       "      <td>The unit will investigate knowledge management...</td>\n",
       "    </tr>\n",
       "    <tr>\n",
       "      <th>3</th>\n",
       "      <td>ICT508</td>\n",
       "      <td>Information Technology Project Management</td>\n",
       "      <td>Demonstrate an understanding of the concepts o...</td>\n",
       "      <td>This unit will cover the principles and practi...</td>\n",
       "      <td>The aim of the unit is to provide students wit...</td>\n",
       "    </tr>\n",
       "    <tr>\n",
       "      <th>4</th>\n",
       "      <td>ICT513</td>\n",
       "      <td>Data Analytics</td>\n",
       "      <td>Perform a variety of statistical analyses with...</td>\n",
       "      <td>This unit examines topics relevant to data sci...</td>\n",
       "      <td>Topics covered in this unit include: · Descrip...</td>\n",
       "    </tr>\n",
       "  </tbody>\n",
       "</table>\n",
       "</div>"
      ],
      "text/plain": [
       "  UnitCode                                           UnitName  \\\n",
       "0  ICT501   Business Analysis and Systems Development Appr...   \n",
       "1   ICT502            Applied Information Security Management   \n",
       "2   ICT505                               Knowledge Management   \n",
       "3   ICT508          Information Technology Project Management   \n",
       "4   ICT513                                     Data Analytics   \n",
       "\n",
       "                                    LearningOutcomes  \\\n",
       "0  Demonstrate an understanding of business analy...   \n",
       "1  Communicate the importance of security of both...   \n",
       "2  Critically discuss the role and importance of ...   \n",
       "3  Demonstrate an understanding of the concepts o...   \n",
       "4  Perform a variety of statistical analyses with...   \n",
       "\n",
       "                                         Description  \\\n",
       "0  This unit aims to further develop the knowledg...   \n",
       "1  Information security managers design, build an...   \n",
       "2  This unit examines the role of knowledge manag...   \n",
       "3  This unit will cover the principles and practi...   \n",
       "4  This unit examines topics relevant to data sci...   \n",
       "\n",
       "                                         UnitContent  \n",
       "0  This unit covers the following topics: * Syste...  \n",
       "1  1. Introduction to the Management of Informati...  \n",
       "2  The unit will investigate knowledge management...  \n",
       "3  The aim of the unit is to provide students wit...  \n",
       "4  Topics covered in this unit include: · Descrip...  "
      ]
     },
     "execution_count": 4,
     "metadata": {},
     "output_type": "execute_result"
    }
   ],
   "source": [
    "df.head()"
   ]
  },
  {
   "cell_type": "code",
   "execution_count": 7,
   "id": "fc65f048",
   "metadata": {},
   "outputs": [
    {
     "data": {
      "text/plain": [
       "Index(['code', 'name', 'credits', 'masterStatus', 'offerings',\n",
       "       'administrativeContacts', 'unitCoordinators', 'teachingTeam',\n",
       "       'fieldOfEducation', 'repeatable', 'unitCategory', 'assessments',\n",
       "       'owningCollege', 'owningDiscpline', 'quotaEnrolmentRequirements',\n",
       "       'assessmentOverview', 'unitLevel', 'unitLearningOutcomes',\n",
       "       'timetableThisUnit', 'specialTopic', 'prerequisites',\n",
       "       'publishTuitionFees', 'exclusions', 'workIntegratedLearning',\n",
       "       'otherLearningActivity', 'collaboratingDisciplines', 'quotaRationale',\n",
       "       'gradingSchema', 'specialUnitType', 'placementProportion',\n",
       "       'enrolmentRules', 'unitDescriptions', 'timetabledLearningActivities',\n",
       "       'requisites', 'sourceSystemId', 'id', 'versionNumber', 'startDate',\n",
       "       'endDate', 'status', 'courseLoopVersionNumber'],\n",
       "      dtype='object')"
      ]
     },
     "execution_count": 7,
     "metadata": {},
     "output_type": "execute_result"
    }
   ],
   "source": [
    "df.columns"
   ]
  },
  {
   "cell_type": "code",
   "execution_count": 8,
   "id": "0a491cfb",
   "metadata": {},
   "outputs": [],
   "source": [
    "#Select the columns\n",
    "new_df = df[['code', 'name', 'fieldOfEducation', 'unitLearningOutcomes', 'unitDescriptions']]"
   ]
  },
  {
   "cell_type": "code",
   "execution_count": 9,
   "id": "4e64b6a6",
   "metadata": {},
   "outputs": [
    {
     "data": {
      "text/html": [
       "<div>\n",
       "<style scoped>\n",
       "    .dataframe tbody tr th:only-of-type {\n",
       "        vertical-align: middle;\n",
       "    }\n",
       "\n",
       "    .dataframe tbody tr th {\n",
       "        vertical-align: top;\n",
       "    }\n",
       "\n",
       "    .dataframe thead th {\n",
       "        text-align: right;\n",
       "    }\n",
       "</style>\n",
       "<table border=\"1\" class=\"dataframe\">\n",
       "  <thead>\n",
       "    <tr style=\"text-align: right;\">\n",
       "      <th></th>\n",
       "      <th>code</th>\n",
       "      <th>name</th>\n",
       "      <th>fieldOfEducation</th>\n",
       "      <th>unitLearningOutcomes</th>\n",
       "      <th>unitDescriptions</th>\n",
       "    </tr>\n",
       "  </thead>\n",
       "  <tbody>\n",
       "    <tr>\n",
       "      <th>0</th>\n",
       "      <td>LLB583</td>\n",
       "      <td>Advanced Supervised Legal Research</td>\n",
       "      <td>090000 Society and Culture|090900 Law|090900 L...</td>\n",
       "      <td>UNLO1|1|Define a legal research question and i...</td>\n",
       "      <td>null|null|null|This unit offers students the o...</td>\n",
       "    </tr>\n",
       "    <tr>\n",
       "      <th>1</th>\n",
       "      <td>LLB353</td>\n",
       "      <td>Trusts</td>\n",
       "      <td>090000 Society and Culture|090900 Law|090999 L...</td>\n",
       "      <td>UNLO4|4|&lt;p&gt;Demonstrate intellectual skills nee...</td>\n",
       "      <td>Lectures will provide a framework for studying...</td>\n",
       "    </tr>\n",
       "    <tr>\n",
       "      <th>2</th>\n",
       "      <td>BIO280</td>\n",
       "      <td>Special Topics in Biological Sciences and Biot...</td>\n",
       "      <td>010000 Natural and Physical Sciences|010900 Bi...</td>\n",
       "      <td>NaN</td>\n",
       "      <td>null|null|null|This unit comprises study in pa...</td>\n",
       "    </tr>\n",
       "    <tr>\n",
       "      <th>3</th>\n",
       "      <td>EDN204</td>\n",
       "      <td>Catholic Education: Understanding Jesus and hi...</td>\n",
       "      <td>090000 Society and Culture|091700 Philosophy a...</td>\n",
       "      <td>UNLO3|3|&lt;p&gt;Apply a gospel teaching of Jesus as...</td>\n",
       "      <td>&lt;p&gt;8 x half day workshops &lt;/p&gt;|null|null|&lt;p&gt;Th...</td>\n",
       "    </tr>\n",
       "    <tr>\n",
       "      <th>4</th>\n",
       "      <td>POL337</td>\n",
       "      <td>Terrorism and Political Violence in South Asia</td>\n",
       "      <td>090000 Society and Culture|090100 Political Sc...</td>\n",
       "      <td>UNLO2|2|Explain and analyse the nature of poli...</td>\n",
       "      <td>The approach to learning in this unit is a com...</td>\n",
       "    </tr>\n",
       "  </tbody>\n",
       "</table>\n",
       "</div>"
      ],
      "text/plain": [
       "     code                                               name  \\\n",
       "0  LLB583                 Advanced Supervised Legal Research   \n",
       "1  LLB353                                             Trusts   \n",
       "2  BIO280  Special Topics in Biological Sciences and Biot...   \n",
       "3  EDN204  Catholic Education: Understanding Jesus and hi...   \n",
       "4  POL337     Terrorism and Political Violence in South Asia   \n",
       "\n",
       "                                    fieldOfEducation  \\\n",
       "0  090000 Society and Culture|090900 Law|090900 L...   \n",
       "1  090000 Society and Culture|090900 Law|090999 L...   \n",
       "2  010000 Natural and Physical Sciences|010900 Bi...   \n",
       "3  090000 Society and Culture|091700 Philosophy a...   \n",
       "4  090000 Society and Culture|090100 Political Sc...   \n",
       "\n",
       "                                unitLearningOutcomes  \\\n",
       "0  UNLO1|1|Define a legal research question and i...   \n",
       "1  UNLO4|4|<p>Demonstrate intellectual skills nee...   \n",
       "2                                                NaN   \n",
       "3  UNLO3|3|<p>Apply a gospel teaching of Jesus as...   \n",
       "4  UNLO2|2|Explain and analyse the nature of poli...   \n",
       "\n",
       "                                    unitDescriptions  \n",
       "0  null|null|null|This unit offers students the o...  \n",
       "1  Lectures will provide a framework for studying...  \n",
       "2  null|null|null|This unit comprises study in pa...  \n",
       "3  <p>8 x half day workshops </p>|null|null|<p>Th...  \n",
       "4  The approach to learning in this unit is a com...  "
      ]
     },
     "execution_count": 9,
     "metadata": {},
     "output_type": "execute_result"
    }
   ],
   "source": [
    "new_df.head()"
   ]
  },
  {
   "cell_type": "code",
   "execution_count": 10,
   "id": "be333126",
   "metadata": {},
   "outputs": [
    {
     "data": {
      "text/plain": [
       "True"
      ]
     },
     "execution_count": 10,
     "metadata": {},
     "output_type": "execute_result"
    }
   ],
   "source": [
    "#Check for missing values\n",
    "new_df.isna().any().any()"
   ]
  },
  {
   "cell_type": "code",
   "execution_count": 11,
   "id": "c45fd40e",
   "metadata": {},
   "outputs": [
    {
     "data": {
      "text/plain": [
       "code                      0\n",
       "name                      0\n",
       "fieldOfEducation          0\n",
       "unitLearningOutcomes    686\n",
       "unitDescriptions         51\n",
       "dtype: int64"
      ]
     },
     "execution_count": 11,
     "metadata": {},
     "output_type": "execute_result"
    }
   ],
   "source": [
    "#Missing Values per column\n",
    "new_df.isna().sum()"
   ]
  },
  {
   "cell_type": "code",
   "execution_count": 12,
   "id": "b3a8634d",
   "metadata": {},
   "outputs": [],
   "source": [
    "#Removing missing values\n",
    "new_df_clean = new_df.dropna()"
   ]
  },
  {
   "cell_type": "code",
   "execution_count": 13,
   "id": "a9cb07a8",
   "metadata": {},
   "outputs": [
    {
     "data": {
      "text/plain": [
       "code                    0\n",
       "name                    0\n",
       "fieldOfEducation        0\n",
       "unitLearningOutcomes    0\n",
       "unitDescriptions        0\n",
       "dtype: int64"
      ]
     },
     "execution_count": 13,
     "metadata": {},
     "output_type": "execute_result"
    }
   ],
   "source": [
    "new_df_clean.isna().sum()"
   ]
  },
  {
   "cell_type": "code",
   "execution_count": 15,
   "id": "beed0276",
   "metadata": {},
   "outputs": [],
   "source": [
    "# Create a copy of the slice\n",
    "new_df_clean = new_df.copy()\n",
    "\n",
    "# Combine and Clean Text\n",
    "new_df_clean['CombinedText'] = new_df_clean['unitLearningOutcomes'].astype(str) + ' ' + new_df_clean['unitDescriptions'].astype(str)\n",
    "new_df_clean['CleanedText'] = new_df_clean['CombinedText'].apply(clean_text)"
   ]
  },
  {
   "cell_type": "code",
   "execution_count": 16,
   "id": "1b6fe56d",
   "metadata": {},
   "outputs": [],
   "source": [
    "# Feature Engineering: TF-IDF Vectorization\n",
    "vectorizer = TfidfVectorizer()\n",
    "tfidf_matrix = vectorizer.fit_transform(new_df_clean['CleanedText'])"
   ]
  },
  {
   "cell_type": "code",
   "execution_count": 17,
   "id": "0d22b55d",
   "metadata": {},
   "outputs": [
    {
     "data": {
      "text/html": [
       "<style>#sk-container-id-1 {color: black;background-color: white;}#sk-container-id-1 pre{padding: 0;}#sk-container-id-1 div.sk-toggleable {background-color: white;}#sk-container-id-1 label.sk-toggleable__label {cursor: pointer;display: block;width: 100%;margin-bottom: 0;padding: 0.3em;box-sizing: border-box;text-align: center;}#sk-container-id-1 label.sk-toggleable__label-arrow:before {content: \"▸\";float: left;margin-right: 0.25em;color: #696969;}#sk-container-id-1 label.sk-toggleable__label-arrow:hover:before {color: black;}#sk-container-id-1 div.sk-estimator:hover label.sk-toggleable__label-arrow:before {color: black;}#sk-container-id-1 div.sk-toggleable__content {max-height: 0;max-width: 0;overflow: hidden;text-align: left;background-color: #f0f8ff;}#sk-container-id-1 div.sk-toggleable__content pre {margin: 0.2em;color: black;border-radius: 0.25em;background-color: #f0f8ff;}#sk-container-id-1 input.sk-toggleable__control:checked~div.sk-toggleable__content {max-height: 200px;max-width: 100%;overflow: auto;}#sk-container-id-1 input.sk-toggleable__control:checked~label.sk-toggleable__label-arrow:before {content: \"▾\";}#sk-container-id-1 div.sk-estimator input.sk-toggleable__control:checked~label.sk-toggleable__label {background-color: #d4ebff;}#sk-container-id-1 div.sk-label input.sk-toggleable__control:checked~label.sk-toggleable__label {background-color: #d4ebff;}#sk-container-id-1 input.sk-hidden--visually {border: 0;clip: rect(1px 1px 1px 1px);clip: rect(1px, 1px, 1px, 1px);height: 1px;margin: -1px;overflow: hidden;padding: 0;position: absolute;width: 1px;}#sk-container-id-1 div.sk-estimator {font-family: monospace;background-color: #f0f8ff;border: 1px dotted black;border-radius: 0.25em;box-sizing: border-box;margin-bottom: 0.5em;}#sk-container-id-1 div.sk-estimator:hover {background-color: #d4ebff;}#sk-container-id-1 div.sk-parallel-item::after {content: \"\";width: 100%;border-bottom: 1px solid gray;flex-grow: 1;}#sk-container-id-1 div.sk-label:hover label.sk-toggleable__label {background-color: #d4ebff;}#sk-container-id-1 div.sk-serial::before {content: \"\";position: absolute;border-left: 1px solid gray;box-sizing: border-box;top: 0;bottom: 0;left: 50%;z-index: 0;}#sk-container-id-1 div.sk-serial {display: flex;flex-direction: column;align-items: center;background-color: white;padding-right: 0.2em;padding-left: 0.2em;position: relative;}#sk-container-id-1 div.sk-item {position: relative;z-index: 1;}#sk-container-id-1 div.sk-parallel {display: flex;align-items: stretch;justify-content: center;background-color: white;position: relative;}#sk-container-id-1 div.sk-item::before, #sk-container-id-1 div.sk-parallel-item::before {content: \"\";position: absolute;border-left: 1px solid gray;box-sizing: border-box;top: 0;bottom: 0;left: 50%;z-index: -1;}#sk-container-id-1 div.sk-parallel-item {display: flex;flex-direction: column;z-index: 1;position: relative;background-color: white;}#sk-container-id-1 div.sk-parallel-item:first-child::after {align-self: flex-end;width: 50%;}#sk-container-id-1 div.sk-parallel-item:last-child::after {align-self: flex-start;width: 50%;}#sk-container-id-1 div.sk-parallel-item:only-child::after {width: 0;}#sk-container-id-1 div.sk-dashed-wrapped {border: 1px dashed gray;margin: 0 0.4em 0.5em 0.4em;box-sizing: border-box;padding-bottom: 0.4em;background-color: white;}#sk-container-id-1 div.sk-label label {font-family: monospace;font-weight: bold;display: inline-block;line-height: 1.2em;}#sk-container-id-1 div.sk-label-container {text-align: center;}#sk-container-id-1 div.sk-container {/* jupyter's `normalize.less` sets `[hidden] { display: none; }` but bootstrap.min.css set `[hidden] { display: none !important; }` so we also need the `!important` here to be able to override the default hidden behavior on the sphinx rendered scikit-learn.org. See: https://github.com/scikit-learn/scikit-learn/issues/21755 */display: inline-block !important;position: relative;}#sk-container-id-1 div.sk-text-repr-fallback {display: none;}</style><div id=\"sk-container-id-1\" class=\"sk-top-container\"><div class=\"sk-text-repr-fallback\"><pre>NearestNeighbors(algorithm=&#x27;brute&#x27;, metric=&#x27;cosine&#x27;)</pre><b>In a Jupyter environment, please rerun this cell to show the HTML representation or trust the notebook. <br />On GitHub, the HTML representation is unable to render, please try loading this page with nbviewer.org.</b></div><div class=\"sk-container\" hidden><div class=\"sk-item\"><div class=\"sk-estimator sk-toggleable\"><input class=\"sk-toggleable__control sk-hidden--visually\" id=\"sk-estimator-id-1\" type=\"checkbox\" checked><label for=\"sk-estimator-id-1\" class=\"sk-toggleable__label sk-toggleable__label-arrow\">NearestNeighbors</label><div class=\"sk-toggleable__content\"><pre>NearestNeighbors(algorithm=&#x27;brute&#x27;, metric=&#x27;cosine&#x27;)</pre></div></div></div></div></div>"
      ],
      "text/plain": [
       "NearestNeighbors(algorithm='brute', metric='cosine')"
      ]
     },
     "execution_count": 17,
     "metadata": {},
     "output_type": "execute_result"
    }
   ],
   "source": [
    "# Model Building: k-NN with Cosine Similarity\n",
    "model = NearestNeighbors(n_neighbors=5, algorithm='brute', metric='cosine')\n",
    "model.fit(tfidf_matrix)"
   ]
  },
  {
   "cell_type": "code",
   "execution_count": 24,
   "id": "dc0e03da",
   "metadata": {},
   "outputs": [],
   "source": [
    "# Setting the Minimum Similarity Threshold to 50%\n",
    "MIN_SIMILARITY_THRESHOLD = 20"
   ]
  },
  {
   "cell_type": "code",
   "execution_count": 29,
   "id": "e1b95716",
   "metadata": {},
   "outputs": [
    {
     "name": "stdout",
     "output_type": "stream",
     "text": [
      "Please enter your work experience: \n",
      "Please provide a more detailed work experience for better recommendations.\n"
     ]
    }
   ],
   "source": [
    "# Recommendation Function\n",
    "def recommend_units(work_experience):\n",
    "    cleaned_experience = clean_text(work_experience)\n",
    "    query_vector = vectorizer.transform([cleaned_experience])\n",
    "    distances, indices = model.kneighbors(query_vector)\n",
    "    \n",
    "    if len(cleaned_experience.split()) < 10:\n",
    "        return \"Please provide a more detailed work experience for better recommendations.\"\n",
    "    \n",
    "    recommendations = []\n",
    "    for i, index in enumerate(indices[0]):\n",
    "        similarity = (1 - distances[0][i]) * 100\n",
    "        \n",
    "        if similarity < MIN_SIMILARITY_THRESHOLD:\n",
    "            continue\n",
    "        \n",
    "        unit_code = new_df.iloc[index]['code']  \n",
    "        unit_name = new_df.iloc[index]['name'] \n",
    "        field_of_education = new_df.iloc[index]['fieldOfEducation'] \n",
    "        \n",
    "        recommendations.append((unit_code, unit_name, round(similarity, 2)))\n",
    "\n",
    "    return recommendations if recommendations else \"No units found that match your work experience.\"\n",
    "\n",
    "# Replace input() with a hardcoded string for testing\n",
    "user_experience = input(\"Please enter your work experience: \")\n",
    "recommended_units = recommend_units(user_experience)\n",
    "\n",
    "if isinstance(recommended_units, str):\n",
    "    print(recommended_units)\n",
    "else:\n",
    "    print(\"Units recommended based on your work experience:\")\n",
    "    for unit_code, unit_name, similarity in recommended_units:\n",
    "        print(f\"Unit Code: {unit_code}, Unit Name: {unit_name}, Similarity: {similarity}%\")"
   ]
  }
 ],
 "metadata": {
  "kernelspec": {
   "display_name": "Python 3 (ipykernel)",
   "language": "python",
   "name": "python3"
  },
  "language_info": {
   "codemirror_mode": {
    "name": "ipython",
    "version": 3
   },
   "file_extension": ".py",
   "mimetype": "text/x-python",
   "name": "python",
   "nbconvert_exporter": "python",
   "pygments_lexer": "ipython3",
   "version": "3.11.5"
  }
 },
 "nbformat": 4,
 "nbformat_minor": 5
}
